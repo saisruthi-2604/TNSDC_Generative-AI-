{
  "cells": [
    {
      "cell_type": "code",
      "execution_count": null,
      "metadata": {
        "colab": {
          "base_uri": "https://localhost:8080/"
        },
        "id": "kSKyP6VgXCpm",
        "outputId": "f3ba7c20-de5c-41a9-bf91-c908365309bd"
      },
      "outputs": [
        {
          "output_type": "stream",
          "name": "stdout",
          "text": [
            "Welcome to ChatBot!\n",
            "Type 'exit' to end the conversation.\n",
            "ChatBot: Hey!\n",
            "ChatBot: I'm great!\n",
            "ChatBot: Hi there!\n",
            "You: how are you\n",
            "ChatBot: I'm fine, thanks for asking.\n"
          ]
        }
      ],
      "source": [
        "import random\n",
        "\n",
        "# Dictionary of responses\n",
        "responses = {\n",
        "    \"hello\": [\"Hello!\", \"Hi there!\", \"Hey!\"],\n",
        "    \"how are you\": [\"I'm doing well, thank you!\", \"I'm fine, thanks for asking.\", \"I'm great!\"],\n",
        "    \"what's your name\": [\"I'm a chatbot.\", \"You can call me ChatBot.\", \"My name is ChatBot.\"],\n",
        "    \"default\": [\"Sorry, I didn't understand that.\", \"Could you please rephrase that?\", \"I'm not sure I follow.\"]\n",
        "}\n",
        "\n",
        "def get_response(user_input):\n",
        "    user_input = user_input.lower()\n",
        "    if user_input in responses:\n",
        "        return random.choice(responses[user_input])\n",
        "    else:\n",
        "        return random.choice(responses[\"default\"])\n",
        "\n",
        "def main():\n",
        "    print(\"Welcome to ChatBot!\")\n",
        "    print(\"Type 'exit' to end the conversation.\")\n",
        "    while True:\n",
        "        user_input = input(\"You: \")\n",
        "        if user_input.lower() == 'exit':\n",
        "            print(\"ChatBot: Goodbye!\")\n",
        "            break\n",
        "        response = get_response(user_input)\n",
        "        print(\"ChatBot:\", response)\n",
        "\n",
        "if __name__ == \"__main__\":\n",
        "    main()\n"
      ]
    }
  ],
  "metadata": {
    "colab": {
      "provenance": []
    },
    "kernelspec": {
      "display_name": "Python 3",
      "name": "python3"
    },
    "language_info": {
      "name": "python"
    }
  },
  "nbformat": 4,
  "nbformat_minor": 0
}